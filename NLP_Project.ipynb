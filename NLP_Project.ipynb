{
  "nbformat": 4,
  "nbformat_minor": 0,
  "metadata": {
    "colab": {
      "provenance": [],
      "include_colab_link": true
    },
    "kernelspec": {
      "name": "python3",
      "display_name": "Python 3"
    },
    "language_info": {
      "name": "python"
    }
  },
  "cells": [
    {
      "cell_type": "markdown",
      "metadata": {
        "id": "view-in-github",
        "colab_type": "text"
      },
      "source": [
        "<a href=\"https://colab.research.google.com/github/LSowmyaDonepudi/Paraphrase-Identification/blob/main/NLP_Project.ipynb\" target=\"_parent\"><img src=\"https://colab.research.google.com/assets/colab-badge.svg\" alt=\"Open In Colab\"/></a>"
      ]
    },
    {
      "cell_type": "markdown",
      "source": [
        "Import the required libraries\n",
        "\n"
      ],
      "metadata": {
        "id": "jv7l0cNCDKEO"
      }
    },
    {
      "cell_type": "code",
      "source": [
        "import numpy as np\n",
        "from nltk import wordpunct_tokenize\n",
        "import nltk\n",
        "import itertools\n",
        "import operator\n",
        "import sklearn\n",
        "import re, string\n",
        "import math\n",
        "import numpy as np\n",
        "from tensorflow.keras.models import Model\n",
        "from tensorflow.keras.layers import Input, Embedding, Bidirectional, LSTM, Dense, concatenate\n",
        "from tensorflow.keras.optimizers import Adam\n",
        "from tensorflow.keras.regularizers import l2\n",
        "from sklearn.model_selection import train_test_split\n",
        "from tensorflow.keras.preprocessing.sequence import pad_sequences\n",
        "import matplotlib.pyplot as plt\n",
        "from sklearn.metrics import roc_curve, auc, confusion_matrix, classification_report\n",
        "import seaborn as sns\n"
      ],
      "metadata": {
        "id": "4n9Hs0_tDcoc"
      },
      "execution_count": null,
      "outputs": []
    },
    {
      "cell_type": "markdown",
      "source": [
        "Define Functions for Data Pre-Processing"
      ],
      "metadata": {
        "id": "3ox4OE4fFtdw"
      }
    },
    {
      "cell_type": "code",
      "execution_count": null,
      "metadata": {
        "id": "14wWV6hYKmBP"
      },
      "outputs": [],
      "source": [
        "# Define tokens\n",
        "sentence_start_token = \"sentence_start_token\"\n",
        "sentence_end_token = \"sentence_end_token\"\n",
        "unknown_token = \"unknown_token\"  # for words not present in the vocabulary (unknown words)\n",
        "\n",
        "# Function to load corpus\n",
        "def load_data(loc='/content/'):\n",
        "    \"loading MSRP dataset\"\n",
        "    trainloc = loc + 'msr_paraphrase_train.txt'\n",
        "    testloc = loc + 'msr_paraphrase_test.txt'\n",
        "\n",
        "    sentence1_train, sentence2_train, sentence1_test, sentence2_test = [], [], [], []\n",
        "    label_train, label_dev, label_test = [], [], []\n",
        "\n",
        "    # Load training data\n",
        "    with open(trainloc, 'r', encoding='utf8') as f:\n",
        "        f.readline()  # skipping the header of the file\n",
        "        for line in f:\n",
        "            text = line.strip().split('\\t')\n",
        "            sentence1_train.append(\"%s %s %s\" % (sentence_start_token, text[3], sentence_end_token))\n",
        "            sentence2_train.append(\"%s %s %s\" % (sentence_start_token, text[4], sentence_end_token))\n",
        "            label_train.append(int(text[0]))\n",
        "\n",
        "    # Load test data\n",
        "    with open(testloc, 'r', encoding='utf8') as f:\n",
        "        f.readline()  # skipping the header of the file\n",
        "        for line in f:\n",
        "            text = line.strip().split('\\t')\n",
        "            sentence1_test.append(\"%s %s %s\" % (sentence_start_token, text[3], sentence_end_token))\n",
        "            sentence2_test.append(\"%s %s %s\" % (sentence_start_token, text[4], sentence_end_token))\n",
        "            label_test.append(int(text[0]))\n",
        "\n",
        "    return [sentence1_train, sentence2_train], [sentence1_test, sentence2_test], [label_train, label_test]\n",
        "\n",
        "# Function to build dictionary\n",
        "def build_dictionary(loc='/content/', vocabulary_size=-1):\n",
        "    \"load MSRP dataset and construct a dictionary\"\n",
        "    trainloc = loc + 'msr_paraphrase_train.txt'\n",
        "    testloc = loc + 'msr_paraphrase_test.txt'\n",
        "\n",
        "    document_frequency = {}\n",
        "    total_document = 0\n",
        "\n",
        "    # Process training data\n",
        "    with open(trainloc, 'r', encoding='utf8') as f:\n",
        "        f.readline()  # skipping the header of the file\n",
        "        for line in f:\n",
        "            text = line.strip().split('\\t')\n",
        "            sentence1 = my_tokenizer(text[3])\n",
        "            sentence2 = my_tokenizer(text[4])\n",
        "\n",
        "            for token in set(sentence1):\n",
        "                if token in document_frequency:\n",
        "                    document_frequency[token] = document_frequency[token] + 1\n",
        "                else:\n",
        "                    document_frequency[token] = 1\n",
        "\n",
        "            for token in set(sentence2):\n",
        "                if token in document_frequency:\n",
        "                    document_frequency[token] = document_frequency[token] + 1\n",
        "                else:\n",
        "                    document_frequency[token] = 1\n",
        "\n",
        "            total_document = total_document + 2\n",
        "\n",
        "    # Process test data\n",
        "    with open(testloc, 'r', encoding='utf8') as f:\n",
        "        f.readline()  # skipping the header of the file\n",
        "        for line in f:\n",
        "            text = line.strip().split('\\t')\n",
        "            sentence1 = my_tokenizer(text[3])\n",
        "            sentence2 = my_tokenizer(text[4])\n",
        "\n",
        "            for token in set(sentence1):\n",
        "                if token in document_frequency:\n",
        "                    document_frequency[token] = document_frequency[token] + 1\n",
        "                else:\n",
        "                    document_frequency[token] = 1\n",
        "\n",
        "            for token in set(sentence2):\n",
        "                if token in document_frequency:\n",
        "                    document_frequency[token] = document_frequency[token] + 1\n",
        "                else:\n",
        "                    document_frequency[token] = 1\n",
        "\n",
        "            total_document = total_document + 2\n",
        "\n",
        "    # Calculate IDF values\n",
        "    for key, value in document_frequency.items():\n",
        "        document_frequency[key] = math.log(total_document / document_frequency[key])\n",
        "\n",
        "    # Sort vocabulary by IDF values\n",
        "    vocab = sorted(document_frequency.items(), key=operator.itemgetter(1), reverse=True)\n",
        "\n",
        "    # Create word-to-index and index-to-word mappings\n",
        "    word_to_index = {}\n",
        "    index_to_word = {}\n",
        "    word_to_index[sentence_start_token] = 0\n",
        "    word_to_index[sentence_end_token] = 1\n",
        "    word_to_index[unknown_token] = 2\n",
        "    index_to_word[0] = sentence_start_token\n",
        "    index_to_word[1] = sentence_end_token\n",
        "    index_to_word[2] = unknown_token\n",
        "\n",
        "    counter = 3\n",
        "    for key, value in vocab:\n",
        "        if (len(key) < 4):\n",
        "            continue\n",
        "        elif counter == vocabulary_size:\n",
        "            break\n",
        "        word_to_index[key] = counter\n",
        "        index_to_word[counter] = key\n",
        "        counter = counter + 1\n",
        "\n",
        "    return word_to_index, index_to_word\n",
        "\n",
        "# Function to tokenize input sentences\n",
        "def my_tokenizer(input):\n",
        "    token_list = []\n",
        "    tokens = wordpunct_tokenize(input.lower())\n",
        "    token_list.extend([x for x in tokens if not re.fullmatch('[' + string.punctuation + ']+', x)])\n",
        "    return token_list\n",
        "\n",
        "# Function to get training data\n",
        "def fetch_train_data(vocabulary_size):\n",
        "    word_to_index, index_to_word = build_dictionary(vocabulary_size=vocabulary_size)\n",
        "    [sentence1_train, sentence2_train], [sentence1_test, sentence2_test], [label_train, label_test] = load_data()\n",
        "\n",
        "    # Tokenize and convert training sentences to indices\n",
        "    sentence1_train_tokenized = [my_tokenizer(sent) for sent in sentence1_train]\n",
        "    sentence2_train_tokenized = [my_tokenizer(sent) for sent in sentence2_train]\n",
        "\n",
        "    for i, sent in enumerate(sentence1_train_tokenized):\n",
        "        sentence1_train_tokenized[i] = [w if w in word_to_index else unknown_token for w in sent]\n",
        "    for i, sent in enumerate(sentence2_train_tokenized):\n",
        "        sentence2_train_tokenized[i] = [w if w in word_to_index else unknown_token for w in sent]\n",
        "\n",
        "    sentence1_train_indices = []\n",
        "    for sentence in sentence1_train_tokenized:\n",
        "        sentence1_train_indices.append([word_to_index[word] for word in sentence])\n",
        "\n",
        "    sentence2_train_indices = []\n",
        "    for sentence in sentence2_train_tokenized:\n",
        "        sentence2_train_indices.append([word_to_index[word] for word in sentence])\n",
        "\n",
        "    return sentence1_train_indices, sentence2_train_indices, word_to_index, index_to_word, label_train\n",
        "\n",
        "# Function to get test data\n",
        "def fetch_test_data(vocabulary_size):\n",
        "    word_to_index, index_to_word = build_dictionary(vocabulary_size=vocabulary_size)\n",
        "    [sentence1_train, sentence2_train], [sentence1_test, sentence2_test], [label_train, label_test] = load_data()\n",
        "\n",
        "    # Tokenize and convert test sentences to indices\n",
        "    sentence1_test_tokenized = [my_tokenizer(sent) for sent in sentence1_test]\n",
        "    sentence2_test_tokenized = [my_tokenizer(sent) for sent in sentence2_test]\n",
        "\n",
        "    for i, sent in enumerate(sentence1_test_tokenized):\n",
        "        sentence1_test_tokenized[i] = [w if w in word_to_index else unknown_token for w in sent]\n",
        "    for i, sent in enumerate(sentence2_test_tokenized):\n",
        "        sentence2_test_tokenized[i] = [w if w in word_to_index else unknown_token for w in sent]\n",
        "\n",
        "    sentence1_test_indices = []\n",
        "    for sentence in sentence1_test_tokenized:\n",
        "        sentence1_test_indices.append([word_to_index[word] for word in sentence])\n",
        "\n",
        "    sentence2_test_indices = []\n",
        "    for sentence in sentence2_test_tokenized:\n",
        "        sentence2_test_indices.append([word_to_index[word] for word in sentence])\n",
        "\n",
        "    return sentence1_test_indices, sentence2_test_indices, word_to_index, index_to_word, label_test\n"
      ]
    },
    {
      "cell_type": "markdown",
      "source": [
        "Build a Bidirectional LSTM for Paraphrase Identification"
      ],
      "metadata": {
        "id": "FJP4WSFTGNA5"
      }
    },
    {
      "cell_type": "code",
      "source": [
        "# Load data\n",
        "sentence1_train_indices, sentence2_train_indices, word_to_index, _, label_train = fetch_train_data(vocabulary_size=5000)\n",
        "sentence1_test_indices, sentence2_test_indices, _, _, label_test = fetch_test_data(vocabulary_size=5000)\n",
        "\n",
        "# Pad sequences to the same length\n",
        "max_sequence_length = max(max(len(seq) for seq in sentence1_train_indices),\n",
        "                         max(len(seq) for seq in sentence2_train_indices))\n",
        "\n",
        "sentence1_train_padded = pad_sequences(sentence1_train_indices, maxlen=max_sequence_length, padding='post')\n",
        "sentence2_train_padded = pad_sequences(sentence2_train_indices, maxlen=max_sequence_length, padding='post')\n",
        "\n",
        "sentence1_test_padded = pad_sequences(sentence1_test_indices, maxlen=max_sequence_length, padding='post')\n",
        "sentence2_test_padded = pad_sequences(sentence2_test_indices, maxlen=max_sequence_length, padding='post')\n",
        "\n",
        "# Model architecture\n",
        "embedding_dim = 50\n",
        "\n",
        "# Shared embedding layer\n",
        "embedding_layer = Embedding(input_dim=len(word_to_index), output_dim=embedding_dim, input_length=max_sequence_length)\n",
        "\n",
        "# Siamese network\n",
        "input_sentence1 = Input(shape=(max_sequence_length,), name='input_sentence1')\n",
        "input_sentence2 = Input(shape=(max_sequence_length,), name='input_sentence2')\n",
        "\n",
        "# Apply the embedding layer to the input sequences\n",
        "embedded_sentence1 = embedding_layer(input_sentence1)\n",
        "embedded_sentence2 = embedding_layer(input_sentence2)\n",
        "\n",
        "# Use Bidirectional LSTM layers in a deep architecture\n",
        "lstm_layer1 = Bidirectional(LSTM(100, return_sequences=True))\n",
        "lstm_layer2 = Bidirectional(LSTM(50, return_sequences=False))\n",
        "\n",
        "# Apply the first LSTM layer\n",
        "output_sentence1 = lstm_layer1(embedded_sentence1)\n",
        "output_sentence2 = lstm_layer1(embedded_sentence2)\n",
        "\n",
        "# Apply the second LSTM layer\n",
        "output_sentence1 = lstm_layer2(output_sentence1)\n",
        "output_sentence2 = lstm_layer2(output_sentence2)\n",
        "\n",
        "# Concatenate the outputs and pass through a Dense layer\n",
        "merged_output = concatenate([output_sentence1, output_sentence2], name='merged_output')\n",
        "dense_layer = Dense(64, activation='relu', name='dense_layer')(merged_output)\n",
        "output_layer = Dense(1, activation='sigmoid', name='output_layer')(dense_layer)\n",
        "\n",
        "model = Model(inputs=[input_sentence1, input_sentence2], outputs=output_layer)\n",
        "\n",
        "# Compile the model\n",
        "model.compile(optimizer=Adam(learning_rate=0.001), loss='binary_crossentropy', metrics=['accuracy'])\n",
        "\n",
        "# Train the model\n",
        "X_train = { 'input_sentence1': sentence1_train_padded, 'input_sentence2': sentence2_train_padded }\n",
        "X_test = { 'input_sentence1': sentence1_test_padded, 'input_sentence2': sentence2_test_padded }\n",
        "y_train = np.array(label_train)\n",
        "y_test = np.array(label_test)\n",
        "\n",
        "history = model.fit(X_train, y_train, epochs=20, batch_size=64, validation_data=(X_test, y_test))"
      ],
      "metadata": {
        "colab": {
          "base_uri": "https://localhost:8080/"
        },
        "id": "CioN75_OG06U",
        "outputId": "bd6731ea-5964-4762-a0d7-6a9a1efe59b4"
      },
      "execution_count": null,
      "outputs": [
        {
          "output_type": "stream",
          "name": "stdout",
          "text": [
            "Epoch 1/20\n",
            "64/64 [==============================] - 51s 505ms/step - loss: 0.6319 - accuracy: 0.6681 - val_loss: 0.6260 - val_accuracy: 0.6649\n",
            "Epoch 2/20\n",
            "64/64 [==============================] - 27s 428ms/step - loss: 0.6183 - accuracy: 0.6752 - val_loss: 0.6171 - val_accuracy: 0.6649\n",
            "Epoch 3/20\n",
            "64/64 [==============================] - 28s 442ms/step - loss: 0.6073 - accuracy: 0.6769 - val_loss: 0.6066 - val_accuracy: 0.6754\n",
            "Epoch 4/20\n",
            "64/64 [==============================] - 29s 461ms/step - loss: 0.6018 - accuracy: 0.6820 - val_loss: 0.6058 - val_accuracy: 0.6696\n",
            "Epoch 5/20\n",
            "64/64 [==============================] - 29s 458ms/step - loss: 0.5354 - accuracy: 0.7353 - val_loss: 0.6917 - val_accuracy: 0.6586\n",
            "Epoch 6/20\n",
            "64/64 [==============================] - 27s 421ms/step - loss: 0.4523 - accuracy: 0.7897 - val_loss: 0.6326 - val_accuracy: 0.6707\n",
            "Epoch 7/20\n",
            "64/64 [==============================] - 29s 450ms/step - loss: 0.4086 - accuracy: 0.8184 - val_loss: 0.6483 - val_accuracy: 0.6597\n",
            "Epoch 8/20\n",
            "64/64 [==============================] - 29s 448ms/step - loss: 0.3831 - accuracy: 0.8295 - val_loss: 0.6696 - val_accuracy: 0.6614\n",
            "Epoch 9/20\n",
            "64/64 [==============================] - 27s 427ms/step - loss: 0.3521 - accuracy: 0.8415 - val_loss: 0.6513 - val_accuracy: 0.6574\n",
            "Epoch 10/20\n",
            "64/64 [==============================] - 26s 409ms/step - loss: 0.3374 - accuracy: 0.8526 - val_loss: 0.7050 - val_accuracy: 0.6667\n",
            "Epoch 11/20\n",
            "64/64 [==============================] - 31s 474ms/step - loss: 0.3292 - accuracy: 0.8592 - val_loss: 0.6879 - val_accuracy: 0.6701\n",
            "Epoch 12/20\n",
            "64/64 [==============================] - 28s 434ms/step - loss: 0.3204 - accuracy: 0.8602 - val_loss: 0.6873 - val_accuracy: 0.6684\n",
            "Epoch 13/20\n",
            "64/64 [==============================] - 25s 395ms/step - loss: 0.3205 - accuracy: 0.8548 - val_loss: 0.7431 - val_accuracy: 0.6609\n",
            "Epoch 14/20\n",
            "64/64 [==============================] - 26s 406ms/step - loss: 0.3122 - accuracy: 0.8592 - val_loss: 0.7125 - val_accuracy: 0.6655\n",
            "Epoch 15/20\n",
            "64/64 [==============================] - 30s 463ms/step - loss: 0.3142 - accuracy: 0.8602 - val_loss: 0.7083 - val_accuracy: 0.6609\n",
            "Epoch 16/20\n",
            "64/64 [==============================] - 27s 424ms/step - loss: 0.3146 - accuracy: 0.8597 - val_loss: 0.6841 - val_accuracy: 0.6719\n",
            "Epoch 17/20\n",
            "64/64 [==============================] - 27s 421ms/step - loss: 0.3108 - accuracy: 0.8582 - val_loss: 0.7273 - val_accuracy: 0.6713\n",
            "Epoch 18/20\n",
            "64/64 [==============================] - 27s 422ms/step - loss: 0.3170 - accuracy: 0.8592 - val_loss: 0.6945 - val_accuracy: 0.6678\n",
            "Epoch 19/20\n",
            "64/64 [==============================] - 27s 427ms/step - loss: 0.3150 - accuracy: 0.8587 - val_loss: 0.7015 - val_accuracy: 0.6667\n",
            "Epoch 20/20\n",
            "64/64 [==============================] - 27s 427ms/step - loss: 0.3123 - accuracy: 0.8606 - val_loss: 0.7094 - val_accuracy: 0.6632\n"
          ]
        }
      ]
    },
    {
      "cell_type": "markdown",
      "source": [
        "Exploring the effect of Regularization"
      ],
      "metadata": {
        "id": "qFcLiexNZox4"
      }
    },
    {
      "cell_type": "code",
      "source": [
        "# Model architecture with L2 regularization\n",
        "embedding_dim = 50\n",
        "l2_lambda = 0.01\n",
        "\n",
        "# Shared embedding layer\n",
        "embedding_layer = Embedding(input_dim=len(word_to_index), output_dim=embedding_dim, input_length=max_sequence_length)\n",
        "\n",
        "# Siamese network\n",
        "input_sentence1 = Input(shape=(max_sequence_length,), name='input_sentence1')\n",
        "input_sentence2 = Input(shape=(max_sequence_length,), name='input_sentence2')\n",
        "\n",
        "# Apply the embedding layer to the input sequences\n",
        "embedded_sentence1 = embedding_layer(input_sentence1)\n",
        "embedded_sentence2 = embedding_layer(input_sentence2)\n",
        "\n",
        "# Use Bidirectional LSTM layers with L2 regularization\n",
        "lstm_layer1 = Bidirectional(LSTM(100, return_sequences=True, kernel_regularizer=l2(l2_lambda)))\n",
        "lstm_layer2 = Bidirectional(LSTM(50, return_sequences=False, kernel_regularizer=l2(l2_lambda)))\n",
        "\n",
        "# Apply the first LSTM layer\n",
        "output_sentence1 = lstm_layer1(embedded_sentence1)\n",
        "output_sentence2 = lstm_layer1(embedded_sentence2)\n",
        "\n",
        "# Apply the second LSTM layer\n",
        "output_sentence1 = lstm_layer2(output_sentence1)\n",
        "output_sentence2 = lstm_layer2(output_sentence2)\n",
        "\n",
        "# Concatenate the outputs and pass through a Dense layer\n",
        "merged_output = concatenate([output_sentence1, output_sentence2], name='merged_output')\n",
        "dense_layer = Dense(64, activation='relu', kernel_regularizer=l2(l2_lambda), name='dense_layer')(merged_output)\n",
        "output_layer = Dense(1, activation='sigmoid', kernel_regularizer=l2(l2_lambda), name='output_layer')(dense_layer)\n",
        "\n",
        "model_regularized = Model(inputs=[input_sentence1, input_sentence2], outputs=output_layer)\n",
        "\n",
        "# Compile the model\n",
        "model_regularized.compile(optimizer=Adam(learning_rate=0.01), loss='binary_crossentropy', metrics=['accuracy'])\n",
        "\n",
        "# Train the model\n",
        "history_regularized = model_regularized.fit(X_train, y_train, epochs=20, batch_size=64, validation_data=(X_test, y_test))\n"
      ],
      "metadata": {
        "colab": {
          "base_uri": "https://localhost:8080/"
        },
        "id": "UH6yNQJMK1g8",
        "outputId": "8aba041d-40ee-4d4a-f9e1-a55541a312ec"
      },
      "execution_count": null,
      "outputs": [
        {
          "output_type": "stream",
          "name": "stdout",
          "text": [
            "Epoch 1/20\n",
            "64/64 [==============================] - 47s 471ms/step - loss: 1.1461 - accuracy: 0.6754 - val_loss: 0.6467 - val_accuracy: 0.6649\n",
            "Epoch 2/20\n",
            "64/64 [==============================] - 27s 418ms/step - loss: 0.6347 - accuracy: 0.6754 - val_loss: 0.6401 - val_accuracy: 0.6649\n",
            "Epoch 3/20\n",
            "64/64 [==============================] - 27s 423ms/step - loss: 0.6337 - accuracy: 0.6754 - val_loss: 0.6405 - val_accuracy: 0.6649\n",
            "Epoch 4/20\n",
            "64/64 [==============================] - 27s 427ms/step - loss: 0.6323 - accuracy: 0.6754 - val_loss: 0.6385 - val_accuracy: 0.6649\n",
            "Epoch 5/20\n",
            "64/64 [==============================] - 27s 420ms/step - loss: 0.6317 - accuracy: 0.6754 - val_loss: 0.6386 - val_accuracy: 0.6649\n",
            "Epoch 6/20\n",
            "64/64 [==============================] - 28s 440ms/step - loss: 0.6316 - accuracy: 0.6754 - val_loss: 0.6385 - val_accuracy: 0.6649\n",
            "Epoch 7/20\n",
            "64/64 [==============================] - 27s 425ms/step - loss: 0.6322 - accuracy: 0.6754 - val_loss: 0.6388 - val_accuracy: 0.6649\n",
            "Epoch 8/20\n",
            "64/64 [==============================] - 27s 429ms/step - loss: 0.6312 - accuracy: 0.6754 - val_loss: 0.6389 - val_accuracy: 0.6649\n",
            "Epoch 9/20\n",
            "64/64 [==============================] - 28s 434ms/step - loss: 0.6316 - accuracy: 0.6754 - val_loss: 0.6381 - val_accuracy: 0.6649\n",
            "Epoch 10/20\n",
            "64/64 [==============================] - 28s 431ms/step - loss: 0.6311 - accuracy: 0.6754 - val_loss: 0.6381 - val_accuracy: 0.6649\n",
            "Epoch 11/20\n",
            "64/64 [==============================] - 31s 483ms/step - loss: 0.6307 - accuracy: 0.6754 - val_loss: 0.6378 - val_accuracy: 0.6649\n",
            "Epoch 12/20\n",
            "64/64 [==============================] - 28s 441ms/step - loss: 0.6312 - accuracy: 0.6754 - val_loss: 0.6395 - val_accuracy: 0.6649\n",
            "Epoch 13/20\n",
            "64/64 [==============================] - 27s 431ms/step - loss: 0.6308 - accuracy: 0.6754 - val_loss: 0.6378 - val_accuracy: 0.6649\n",
            "Epoch 14/20\n",
            "64/64 [==============================] - 27s 425ms/step - loss: 0.6306 - accuracy: 0.6754 - val_loss: 0.6386 - val_accuracy: 0.6649\n",
            "Epoch 15/20\n",
            "64/64 [==============================] - 27s 416ms/step - loss: 0.6306 - accuracy: 0.6754 - val_loss: 0.6383 - val_accuracy: 0.6649\n",
            "Epoch 16/20\n",
            "64/64 [==============================] - 25s 394ms/step - loss: 0.6309 - accuracy: 0.6754 - val_loss: 0.6378 - val_accuracy: 0.6649\n",
            "Epoch 17/20\n",
            "64/64 [==============================] - 30s 467ms/step - loss: 0.6303 - accuracy: 0.6754 - val_loss: 0.6391 - val_accuracy: 0.6649\n",
            "Epoch 18/20\n",
            "64/64 [==============================] - 26s 410ms/step - loss: 0.6307 - accuracy: 0.6754 - val_loss: 0.6379 - val_accuracy: 0.6649\n",
            "Epoch 19/20\n",
            "64/64 [==============================] - 27s 427ms/step - loss: 0.6305 - accuracy: 0.6754 - val_loss: 0.6380 - val_accuracy: 0.6649\n",
            "Epoch 20/20\n",
            "64/64 [==============================] - 28s 432ms/step - loss: 0.6304 - accuracy: 0.6754 - val_loss: 0.6380 - val_accuracy: 0.6649\n"
          ]
        }
      ]
    },
    {
      "cell_type": "markdown",
      "source": [
        "Conclusion: Regularization is not necessary for this corpus."
      ],
      "metadata": {
        "id": "fQFGt-cJ1wXx"
      }
    },
    {
      "cell_type": "markdown",
      "source": [
        "Plot the results"
      ],
      "metadata": {
        "id": "taaOZS4EytQP"
      }
    },
    {
      "cell_type": "code",
      "source": [
        "# Plot training & validation accuracy values\n",
        "plt.subplot(1, 2, 2)\n",
        "plt.plot(history.history['accuracy'])\n",
        "plt.plot(history.history['val_accuracy'])\n",
        "plt.title('Model accuracy')\n",
        "plt.xlabel('Epoch')\n",
        "plt.ylabel('Accuracy')\n",
        "plt.legend(['Train', 'Validation'], loc='lower right')\n",
        "plt.ylim([0.4, 0.9])\n",
        "\n",
        "# Predict classes\n",
        "y_pred_probs = model.predict(X_test)\n",
        "y_pred = (y_pred_probs > 0.5).astype(int)\n",
        "\n",
        "# Confusion Matrix\n",
        "cm = confusion_matrix(y_test, y_pred)\n",
        "plt.figure(figsize=(8, 6))\n",
        "sns.heatmap(cm, annot=True, fmt=\"d\", cmap=\"Blues\", cbar=False)\n",
        "plt.title('Confusion Matrix')\n",
        "plt.xlabel('Predicted')\n",
        "plt.ylabel('True')\n",
        "plt.show()\n",
        "\n",
        "# Classification Report\n",
        "from sklearn.metrics import classification_report\n",
        "print(\"Classification Report:\\n\", classification_report(y_test, y_pred))\n",
        "\n",
        "# Compute ROC curve and ROC area for each class\n",
        "fpr, tpr, _ = roc_curve(y_test, y_pred_probs)\n",
        "roc_auc = auc(fpr, tpr)\n",
        "\n",
        "# Plot ROC curve\n",
        "plt.figure()\n",
        "plt.plot(fpr, tpr, color='darkorange', lw=2, label='ROC curve (area = {:.2f})'.format(roc_auc))\n",
        "plt.plot([0, 1], [0, 1], color='navy', lw=2, linestyle='--')\n",
        "plt.xlabel('False Positive Rate')\n",
        "plt.ylabel('True Positive Rate')\n",
        "plt.title('Receiver Operating Characteristic (ROC) Curve')\n",
        "plt.legend(loc='lower right')\n",
        "plt.show()"
      ],
      "metadata": {
        "colab": {
          "base_uri": "https://localhost:8080/",
          "height": 1665
        },
        "id": "YGrgVVqYTN0z",
        "outputId": "c19e1e68-b8fa-4227-b774-28496a9f3631"
      },
      "execution_count": null,
      "outputs": [
        {
          "output_type": "stream",
          "name": "stdout",
          "text": [
            "54/54 [==============================] - 6s 52ms/step\n"
          ]
        },
        {
          "output_type": "display_data",
          "data": {
            "text/plain": [
              "<Figure size 640x480 with 1 Axes>"
            ],
            "image/png": "[encoded data removed]"
          },
          "metadata": {}
        },
        {
          "output_type": "display_data",
          "data": {
            "text/plain": [
              "<Figure size 800x600 with 1 Axes>"
            ],
            "image/png": "[encoded data removed]"
          },
          "metadata": {}
        },
        {
          "output_type": "stream",
          "name": "stdout",
          "text": [
            "Classification Report:\n",
            "               precision    recall  f1-score   support\n",
            "\n",
            "           0       0.48      0.06      0.11       578\n",
            "           1       0.67      0.97      0.79      1147\n",
            "\n",
            "    accuracy                           0.66      1725\n",
            "   macro avg       0.58      0.51      0.45      1725\n",
            "weighted avg       0.61      0.66      0.56      1725\n",
            "\n"
          ]
        },
        {
          "output_type": "display_data",
          "data": {
            "text/plain": [
              "<Figure size 640x480 with 1 Axes>"
            ],
            "image/png": "[encoded data removed]"
          },
          "metadata": {}
        }
      ]
    },
    {
      "cell_type": "code",
      "source": [
        "!jupyter nbconvert --to rst NLPFinal.ipynb"
      ],
      "metadata": {
        "colab": {
          "base_uri": "https://localhost:8080/"
        },
        "id": "mIVWDjAWutqC",
        "outputId": "57f6dcf0-636b-4e01-f6bc-d8afd5b3b61a"
      },
      "execution_count": null,
      "outputs": [
        {
          "output_type": "stream",
          "name": "stdout",
          "text": [
            "[NbConvertApp] Converting notebook NLPFinal.ipynb to rst\n",
            "[NbConvertApp] Support files will be in NLPFinal_files/\n",
            "[NbConvertApp] Making directory NLPFinal_files\n",
            "[NbConvertApp] Making directory NLPFinal_files\n",
            "[NbConvertApp] Making directory NLPFinal_files\n",
            "[NbConvertApp] Writing 21925 bytes to NLPFinal.rst\n"
          ]
        }
      ]
    }
  ]
}